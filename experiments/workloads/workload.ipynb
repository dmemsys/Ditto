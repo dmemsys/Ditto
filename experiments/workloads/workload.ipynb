{
 "cells": [
  {
   "cell_type": "code",
   "execution_count": null,
   "metadata": {},
   "outputs": [],
   "source": [
    "def roundup(x, align):\n",
    "    return (x // align) * align + ((x % align) > 0) * align\n",
    "\n",
    "def rounddown(x, align):\n",
    "    return (x // align) * align\n",
    "\n",
    "def get_rlist_size(num_buckets):\n",
    "    size_rlist_ent = 16\n",
    "    head_raddr = size_rlist_ent * num_buckets\n",
    "    tail_raddr = head_raddr + size_rlist_ent\n",
    "    lock_raddr = tail_raddr + size_rlist_ent\n",
    "    end_raddr = lock_raddr + size_rlist_ent\n",
    "    return roundup(end_raddr, 1024)\n",
    "\n",
    "def get_hash_space_size(num_slots):\n",
    "    return roundup(num_slots * 48, 1024)"
   ]
  },
  {
   "cell_type": "code",
   "execution_count": null,
   "metadata": {},
   "outputs": [],
   "source": [
    "def get_key(workload_name, line):\n",
    "    if 'twitter' in workload_name:\n",
    "        return line.split(' ')[1]\n",
    "    if 'webmail' in workload_name:\n",
    "        return line.split(' ')[0]\n",
    "    if 'wiki' in workload_name:\n",
    "        return line.split(' ')[1]\n",
    "    if workload_name.endswith('.trc'):\n",
    "        return line[:-1]\n",
    "    if 'ibm' in workload_name:\n",
    "        return line.split(' ')[2]\n",
    "    if 'cphy' in workload_name:\n",
    "        return line.split(' ')[1]"
   ]
  },
  {
   "cell_type": "code",
   "execution_count": null,
   "metadata": {},
   "outputs": [],
   "source": [
    "def get_wl_setting(workload_name, trace_size, max_clients, lines=None):\n",
    "    if lines == None:\n",
    "        with open(workload_name, 'r') as f:\n",
    "            lines = f.readlines()\n",
    "    key_dict = {}\n",
    "    for l in lines:\n",
    "        key = get_key(workload_name, l)\n",
    "        key_dict[key] = True\n",
    "    workload_size = len(key_dict)\n",
    "    print(workload_size)\n",
    "    print(int(workload_size * trace_size))\n",
    "    cache_size_up = rounddown(int(workload_size * trace_size), 256)\n",
    "    # cache_size_up = int(workload_size * trace_size)\n",
    "    num_slots = cache_size_up * 4\n",
    "    num_buckets = num_slots / 8\n",
    "    hash_space_size = get_hash_space_size(num_slots)\n",
    "    rlist_size = get_rlist_size(num_slots)\n",
    "    stateful_size = rlist_size if rlist_size > 4 * 1024 * 1024 else 4 * 1024 * 1024\n",
    "    data_len = hash_space_size + stateful_size + cache_size_up * 256\n",
    "    segment_size = cache_size_up * 256 / max_clients\n",
    "    print(\"Bucket Assoc: {}\".format(8))\n",
    "    print(\"Bucket Number: {}\".format(num_buckets))\n",
    "    print(\"segment size: {}\".format(segment_size))\n",
    "    print(\"block size: {}\".format(256))\n",
    "    print(\"Data len: {}\".format(data_len))\n",
    "    print(\"Cache size: {}\".format(cache_size_up))\n",
    "    print(\"Cache ratio: {}\".format(cache_size_up / workload_size))\n",
    "    print(f\"// {workload_name} - {trace_size}\")\n",
    "    print(f\"// #define HASH_NUM_BUCKETS ({int(num_buckets)})\")\n",
    "    print(f\"# {workload_name}-{trace_size}\")\n",
    "    print(f\"python modify_config.py server_data_len={int(data_len)}\")\n",
    "    print(f\"python modify_config.py segment_size={int(segment_size)}\")\n",
    "    print(f\"python modify_config.py block_size={256}\")"
   ]
  },
  {
   "cell_type": "code",
   "execution_count": null,
   "metadata": {},
   "outputs": [],
   "source": [
    "trace_size = 0.01\n",
    "max_clients = 256\n",
    "workload_size = 256 * 100000\n",
    "cache_size_up = rounddown(int(workload_size * trace_size), 1024)\n",
    "num_slots = cache_size_up * 4\n",
    "num_buckets = num_slots / 8\n",
    "hash_space_size = get_hash_space_size(num_slots)\n",
    "rlist_size = get_rlist_size(num_slots)\n",
    "stateful_size = rlist_size if rlist_size > 4 * 1024 * 1024 else 4 * 1024 * 1024\n",
    "data_len = hash_space_size + stateful_size + cache_size_up * 256\n",
    "segment_size = cache_size_up * 256 / max_clients\n",
    "print(\"Bucket Assoc: {}\".format(8))\n",
    "print(\"Bucket Number: {}\".format(num_buckets))\n",
    "print(\"segment size: {}\".format(segment_size))\n",
    "print(\"block size: {}\".format(256))\n",
    "print(\"Data len: {}\".format(data_len))\n",
    "print(\"Cache size: {}\".format(cache_size_up))\n",
    "print(\"Cache ratio: {}\".format(cache_size_up / workload_size))"
   ]
  },
  {
   "cell_type": "code",
   "execution_count": null,
   "metadata": {},
   "outputs": [],
   "source": [
    "get_wl_setting('mix/lfu-acc-trace-n.trc', 0.1, 16)"
   ]
  },
  {
   "cell_type": "code",
   "execution_count": null,
   "metadata": {},
   "outputs": [],
   "source": [
    "# webmail\n",
    "trace_size = 0.5\n",
    "max_clients = 64\n",
    "workload_size = 137256\n",
    "cache_size_up = rounddown(int(workload_size * trace_size), 1024)\n",
    "num_slots = cache_size_up * 4\n",
    "num_buckets = num_slots / 8\n",
    "hash_space_size = get_hash_space_size(num_slots)\n",
    "rlist_size = get_rlist_size(num_slots)\n",
    "stateful_size = rlist_size if rlist_size > 4 * 1024 * 1024 else 4 * 1024 * 1024\n",
    "data_len = hash_space_size + stateful_size + cache_size_up * 256\n",
    "segment_size = cache_size_up * 256 / max_clients\n",
    "print(\"Bucket Assoc: {}\".format(8))\n",
    "print(\"Bucket Number: {}\".format(num_buckets))\n",
    "print(\"segment size: {}\".format(segment_size))\n",
    "print(\"block size: {}\".format(256))\n",
    "print(\"Data len: {}\".format(data_len))\n",
    "print(\"Cache size: {}\".format(cache_size_up))\n",
    "print(\"Cache ratio: {}\".format(cache_size_up / workload_size))"
   ]
  },
  {
   "cell_type": "code",
   "execution_count": null,
   "metadata": {},
   "outputs": [],
   "source": [
    "# webmail-all\n",
    "trace_size = 0.1\n",
    "max_clients = 64\n",
    "workload_size = 488667\n",
    "cache_size_up = rounddown(int(workload_size * trace_size), 1024)\n",
    "num_slots = cache_size_up * 4\n",
    "num_buckets = num_slots / 8\n",
    "hash_space_size = get_hash_space_size(num_slots)\n",
    "rlist_size = get_rlist_size(num_slots)\n",
    "stateful_size = rlist_size if rlist_size > 4 * 1024 * 1024 else 4 * 1024 * 1024\n",
    "data_len = hash_space_size + stateful_size + cache_size_up * 256\n",
    "segment_size = cache_size_up * 256 / max_clients\n",
    "print(\"Bucket Assoc: {}\".format(8))\n",
    "print(\"Bucket Number: {}\".format(num_buckets))\n",
    "print(\"segment size: {}\".format(segment_size))\n",
    "print(\"block size: {}\".format(256))\n",
    "print(\"Data len: {}\".format(data_len))\n",
    "print(\"Cache size: {}\".format(cache_size_up))\n",
    "print(\"Cache ratio: {}\".format(cache_size_up / workload_size))"
   ]
  },
  {
   "cell_type": "code",
   "execution_count": null,
   "metadata": {},
   "outputs": [],
   "source": [
    "# changing\n",
    "cache_size = 512\n",
    "num_slots = 512 * 8\n",
    "hash_space_size = get_hash_space_size(num_slots)\n",
    "rlist_size = get_rlist_size(num_slots)\n",
    "stateful_size = rlist_size if rlist_size > 4 * 1024 * 1024 else 4 * 1024 * 1024\n",
    "data_len = hash_space_size + stateful_size + cache_size * 256\n",
    "segment_size = cache_size * 256 / 64\n",
    "print(\"Bucket Assoc: {}\".format(8))\n",
    "print(\"Bucket Number: {}\".format(num_buckets))\n",
    "print(\"segment size: {}\".format(segment_size))\n",
    "print(\"block size: {}\".format(256))\n",
    "print(\"Data len: {}\".format(data_len))\n",
    "print(\"Cache size: {}\".format(cache_size))"
   ]
  },
  {
   "cell_type": "code",
   "execution_count": null,
   "metadata": {},
   "outputs": [],
   "source": [
    "# changing\n",
    "cache_size = 64000\n",
    "num_slots = cache_size * 8\n",
    "num_buckets = num_slots / 8\n",
    "hash_space_size = get_hash_space_size(num_slots)\n",
    "rlist_size = get_rlist_size(num_slots)\n",
    "stateful_size = rlist_size if rlist_size > 4 * 1024 * 1024 else 4 * 1024 * 1024\n",
    "data_len = hash_space_size + stateful_size + cache_size * 256\n",
    "segment_size = cache_size * 256 / 64\n",
    "print(\"Bucket Assoc: {}\".format(8))\n",
    "print(\"Bucket Number: {}\".format(num_buckets))\n",
    "print(\"segment size: {}\".format(segment_size))\n",
    "print(\"block size: {}\".format(256))\n",
    "print(\"Data len: {}\".format(data_len))\n",
    "print(\"Cache size: {}\".format(cache_size))"
   ]
  }
 ],
 "metadata": {
  "kernelspec": {
   "display_name": "Python 3.8.5 ('base')",
   "language": "python",
   "name": "python3"
  },
  "language_info": {
   "codemirror_mode": {
    "name": "ipython",
    "version": 3
   },
   "file_extension": ".py",
   "mimetype": "text/x-python",
   "name": "python",
   "nbconvert_exporter": "python",
   "pygments_lexer": "ipython3",
   "version": "3.8.5"
  },
  "orig_nbformat": 4,
  "vscode": {
   "interpreter": {
    "hash": "91db048103ad75934daeb359717de924cc0b1f453a61dd5b0ee031c27bef4d44"
   }
  }
 },
 "nbformat": 4,
 "nbformat_minor": 2
}
